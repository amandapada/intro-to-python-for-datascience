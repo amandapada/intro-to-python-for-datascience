{
 "cells": [
  {
   "cell_type": "markdown",
   "id": "a70ad143",
   "metadata": {},
   "source": [
    "### **Functions**\n",
    "\n",
    "A function is a reusable block of code that does one specific job.\n",
    "\n",
    "Instead of repeating the same code many times, you write it once as a function and then \"call\" it whenever you need it."
   ]
  },
  {
   "cell_type": "markdown",
   "id": "3b15bb3d",
   "metadata": {},
   "source": [
    "def *function_name*(*parameter*):  \n",
    "&nbsp;&nbsp;&nbsp;&nbsp;    \"\"\"This is what the function does\"\"\"   \n",
    "&nbsp;&nbsp;&nbsp;&nbsp;    *do this*  \n",
    "&nbsp;&nbsp;&nbsp;&nbsp;    return\n",
    "\n",
    "*function_name*(*argument*)  &nbsp;&nbsp;&nbsp;&nbsp; *#calling the function* \n",
    "\n"
   ]
  },
  {
   "cell_type": "markdown",
   "id": "e1cd9f25",
   "metadata": {},
   "source": [
    "- def keyword → tells Python you’re defining a function.\n",
    "- Function name → the label you give the function (should describe what it does)."
   ]
  },
  {
   "cell_type": "code",
   "execution_count": null,
   "id": "f89de31c",
   "metadata": {},
   "outputs": [],
   "source": [
    "def greet(): # greet is the function name"
   ]
  },
  {
   "cell_type": "markdown",
   "id": "0a6b0d39",
   "metadata": {},
   "source": [
    "- Parameters → placeholders inside parentheses that receive values when the function is called.\n"
   ]
  },
  {
   "cell_type": "code",
   "execution_count": null,
   "id": "e4718797",
   "metadata": {},
   "outputs": [],
   "source": [
    "def greet(name): # name is a parameter"
   ]
  },
  {
   "cell_type": "markdown",
   "id": "89d9e357",
   "metadata": {},
   "source": [
    "- Docstring → an optional string right under the function, explaining what it does.\n"
   ]
  },
  {
   "cell_type": "code",
   "execution_count": null,
   "id": "350a3a05",
   "metadata": {},
   "outputs": [],
   "source": [
    "def greet(name):\n",
    "    \"\"\"This function greets a person by name\"\"\""
   ]
  },
  {
   "cell_type": "markdown",
   "id": "d0ba47f6",
   "metadata": {},
   "source": [
    "- The code (body) → the indented lines under the function, which run when the function is called."
   ]
  },
  {
   "cell_type": "code",
   "execution_count": null,
   "id": "96a79c20",
   "metadata": {},
   "outputs": [],
   "source": [
    "def greet(name):\n",
    "    \"\"\"This function greets a person by name\"\"\"\n",
    "    print(\"Hello, \" + name + \"!\")"
   ]
  },
  {
   "cell_type": "markdown",
   "id": "10b94569",
   "metadata": {},
   "source": [
    "- return keyword (optional) → sends a value back to the caller (instead of just printing)."
   ]
  },
  {
   "cell_type": "code",
   "execution_count": null,
   "id": "25fb1af7",
   "metadata": {},
   "outputs": [],
   "source": [
    "def greet(name):\n",
    "    \"\"\"This function greets a person by name\"\"\"\n",
    "    return \"Hello, \" + name "
   ]
  },
  {
   "cell_type": "markdown",
   "id": "1c83f3c9",
   "metadata": {},
   "source": [
    "- Function call → using the function by writing its name and passing values.\n"
   ]
  },
  {
   "cell_type": "code",
   "execution_count": null,
   "id": "ed09956a",
   "metadata": {},
   "outputs": [],
   "source": [
    "greet()"
   ]
  },
  {
   "cell_type": "markdown",
   "id": "2379f334",
   "metadata": {},
   "source": [
    "- Arguments → the actual values you pass into the function when calling it."
   ]
  },
  {
   "cell_type": "code",
   "execution_count": null,
   "id": "560e6234",
   "metadata": {},
   "outputs": [],
   "source": [
    "greet(\"Alice\")"
   ]
  },
  {
   "cell_type": "markdown",
   "id": "7f6bdbe0",
   "metadata": {},
   "source": [
    "This is the basic structure of a user-defined function.  \n",
    "\n",
    "There's a second class of functions called built in functions. They come ready-to-use in python. *print()* is an example of a built in function."
   ]
  },
  {
   "cell_type": "markdown",
   "id": "b66b661a",
   "metadata": {},
   "source": [
    "### **Imports**"
   ]
  },
  {
   "cell_type": "markdown",
   "id": "59b8e93b",
   "metadata": {},
   "source": []
  }
 ],
 "metadata": {
  "language_info": {
   "name": "python"
  }
 },
 "nbformat": 4,
 "nbformat_minor": 5
}
