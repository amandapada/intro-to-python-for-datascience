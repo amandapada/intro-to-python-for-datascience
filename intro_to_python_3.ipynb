{
 "cells": [
  {
   "cell_type": "markdown",
   "id": "635cc530",
   "metadata": {},
   "source": [
    "## **Loops**"
   ]
  },
  {
   "cell_type": "markdown",
   "id": "14aea3a6",
   "metadata": {},
   "source": [
    "Loops in Python let you repeat an action or set of actions automatically instead of writing it many times.\n",
    "\n",
    "There are two types of loops in python:  \n",
    "- For Loops\n",
    "- While Loops"
   ]
  },
  {
   "cell_type": "markdown",
   "id": "90c8d4ba",
   "metadata": {},
   "source": [
    "### **For Loops**"
   ]
  },
  {
   "cell_type": "markdown",
   "id": "3d07ae67",
   "metadata": {},
   "source": [
    "This goes through items in a sequence (like a list, string, or range).\n",
    "\n",
    "For loops are designed to work with iterables.\n",
    "\n",
    "An iterable is an object capable of returning its members one at a time. A for loop goes through each item in a sequence one by one until it reaches the end.\n",
    "\n",
    "Examples of common iterables include:  \n",
    "*Sequences*: Lists, tuples, strings, which are ordered collections of elements.  \n",
    "*Collections*: Dictionaries (iterating over keys, values, or items), sets.  \n",
    "*Generators and Iterators*: Objects that give values one at a time, saving memory and able to handle endless sequences.  "
   ]
  },
  {
   "cell_type": "markdown",
   "id": "dd61d281",
   "metadata": {},
   "source": [
    "for *x* in *iterable*:  \n",
    "&nbsp;&nbsp;&nbsp;&nbsp;    *do this*"
   ]
  },
  {
   "cell_type": "markdown",
   "id": "e6b26d78",
   "metadata": {},
   "source": [
    "### Looping through Lists"
   ]
  },
  {
   "cell_type": "code",
   "execution_count": 1,
   "id": "0eff83ad",
   "metadata": {},
   "outputs": [
    {
     "name": "stdout",
     "output_type": "stream",
     "text": [
      "Dear Sarah, you are invited to dinner at my place this Saturday!\n",
      "Dear Anne, you are invited to dinner at my place this Saturday!\n",
      "Dear Michael, you are invited to dinner at my place this Saturday!\n"
     ]
    }
   ],
   "source": [
    "guests = [\"Sarah\", \"Anne\", \"Michael\"]\n",
    "\n",
    "for guest in guests:\n",
    "    print(f\"Dear {guest}, you are invited to dinner at my place this Saturday!\")"
   ]
  },
  {
   "cell_type": "code",
   "execution_count": null,
   "id": "68484677",
   "metadata": {},
   "outputs": [
    {
     "name": "stdout",
     "output_type": "stream",
     "text": [
      "i is 0\n",
      "i is 1\n",
      "i is 2\n",
      "i is 3\n",
      "i is 4\n"
     ]
    }
   ],
   "source": [
    "# Using Range\n",
    "# Range is a built-in function that generates a sequence of numbers\n",
    "for i in range(5):\n",
    "    print(\"i is\",i)\n",
    "\n",
    "# Range can also specify a start and end\n",
    "# The syntax is range(start, end)\n",
    "#\n",
    "for j in range(3,8):\n",
    "    print(\"j is\",j) \n",
    "\n",
    "for k in range(2,10,2):\n",
    "    print(\"k is\",k)"
   ]
  },
  {
   "cell_type": "code",
   "execution_count": null,
   "id": "276de74f",
   "metadata": {},
   "outputs": [],
   "source": [
    "# Adding to a list with a for loop\n",
    "dinner_guests = []\n",
    "\n",
    "for guest in guests:\n",
    "    dinner_guests.append(guest)\n",
    "\n",
    "print(dinner_guests)"
   ]
  },
  {
   "cell_type": "code",
   "execution_count": null,
   "id": "392dbce0",
   "metadata": {},
   "outputs": [],
   "source": [
    "# Using if statements in for loops\n",
    "for i in range(1,11):\n",
    "    if i % 2 == 0:\n",
    "        print(f\"{i} is even\")\n",
    "    else:\n",
    "        print(f\"{i} is odd\")"
   ]
  },
  {
   "cell_type": "code",
   "execution_count": null,
   "id": "cb9b3324",
   "metadata": {},
   "outputs": [],
   "source": [
    "# looping through a slice\n",
    "\n",
    "foods = [\"pizza\", \"tacos\", \"sushi\", \"pasta\", \"salad\"]\n",
    "for food in foods[1:4]:\n",
    "    print(\"I like\", food)"
   ]
  },
  {
   "cell_type": "code",
   "execution_count": 3,
   "id": "76eda2cd",
   "metadata": {},
   "outputs": [
    {
     "name": "stdout",
     "output_type": "stream",
     "text": [
      "[1, 8, 27, 64, 125, 216, 343, 512, 729, 1000]\n"
     ]
    }
   ],
   "source": [
    "# putting the cubes of numbers from 1 to 10 in a list\n",
    "cubes = []\n",
    "for i in range(1, 11):\n",
    "    cubes.append(i**3)\n",
    "print(cubes)   "
   ]
  },
  {
   "cell_type": "markdown",
   "id": "da048b39",
   "metadata": {},
   "source": [
    "#### Nesting For Loops"
   ]
  },
  {
   "cell_type": "code",
   "execution_count": null,
   "id": "6af93e52",
   "metadata": {},
   "outputs": [],
   "source": [
    "for i in range(1, 4):  # Outer loop\n",
    "    for j in range(1, 3):  # Inner loop\n",
    "        print(f\"i: {i}, j: {j}\")"
   ]
  },
  {
   "cell_type": "markdown",
   "id": "0c48a2f1",
   "metadata": {},
   "source": [
    "#### Mini Project: Multiplication Table"
   ]
  },
  {
   "cell_type": "code",
   "execution_count": null,
   "id": "79c60f20",
   "metadata": {},
   "outputs": [
    {
     "name": "stdout",
     "output_type": "stream",
     "text": [
      "1 x 1 = 1\n",
      "1 x 2 = 2\n",
      "1 x 3 = 3\n",
      "1 x 4 = 4\n",
      "1 x 5 = 5\n",
      "1 x 6 = 6\n",
      "1 x 7 = 7\n",
      "1 x 8 = 8\n",
      "1 x 9 = 9\n",
      "1 x 10 = 10\n",
      "2 x 1 = 2\n",
      "2 x 2 = 4\n",
      "2 x 3 = 6\n",
      "2 x 4 = 8\n",
      "2 x 5 = 10\n",
      "2 x 6 = 12\n",
      "2 x 7 = 14\n",
      "2 x 8 = 16\n",
      "2 x 9 = 18\n",
      "2 x 10 = 20\n",
      "3 x 1 = 3\n",
      "3 x 2 = 6\n",
      "3 x 3 = 9\n",
      "3 x 4 = 12\n",
      "3 x 5 = 15\n",
      "3 x 6 = 18\n",
      "3 x 7 = 21\n",
      "3 x 8 = 24\n",
      "3 x 9 = 27\n",
      "3 x 10 = 30\n",
      "4 x 1 = 4\n",
      "4 x 2 = 8\n",
      "4 x 3 = 12\n",
      "4 x 4 = 16\n",
      "4 x 5 = 20\n",
      "4 x 6 = 24\n",
      "4 x 7 = 28\n",
      "4 x 8 = 32\n",
      "4 x 9 = 36\n",
      "4 x 10 = 40\n",
      "5 x 1 = 5\n",
      "5 x 2 = 10\n",
      "5 x 3 = 15\n",
      "5 x 4 = 20\n",
      "5 x 5 = 25\n",
      "5 x 6 = 30\n",
      "5 x 7 = 35\n",
      "5 x 8 = 40\n",
      "5 x 9 = 45\n",
      "5 x 10 = 50\n",
      "6 x 1 = 6\n",
      "6 x 2 = 12\n",
      "6 x 3 = 18\n",
      "6 x 4 = 24\n",
      "6 x 5 = 30\n",
      "6 x 6 = 36\n",
      "6 x 7 = 42\n",
      "6 x 8 = 48\n",
      "6 x 9 = 54\n",
      "6 x 10 = 60\n",
      "7 x 1 = 7\n",
      "7 x 2 = 14\n",
      "7 x 3 = 21\n",
      "7 x 4 = 28\n",
      "7 x 5 = 35\n",
      "7 x 6 = 42\n",
      "7 x 7 = 49\n",
      "7 x 8 = 56\n",
      "7 x 9 = 63\n",
      "7 x 10 = 70\n",
      "8 x 1 = 8\n",
      "8 x 2 = 16\n",
      "8 x 3 = 24\n",
      "8 x 4 = 32\n",
      "8 x 5 = 40\n",
      "8 x 6 = 48\n",
      "8 x 7 = 56\n",
      "8 x 8 = 64\n",
      "8 x 9 = 72\n",
      "8 x 10 = 80\n",
      "9 x 1 = 9\n",
      "9 x 2 = 18\n",
      "9 x 3 = 27\n",
      "9 x 4 = 36\n",
      "9 x 5 = 45\n",
      "9 x 6 = 54\n",
      "9 x 7 = 63\n",
      "9 x 8 = 72\n",
      "9 x 9 = 81\n",
      "9 x 10 = 90\n",
      "10 x 1 = 10\n",
      "10 x 2 = 20\n",
      "10 x 3 = 30\n",
      "10 x 4 = 40\n",
      "10 x 5 = 50\n",
      "10 x 6 = 60\n",
      "10 x 7 = 70\n",
      "10 x 8 = 80\n",
      "10 x 9 = 90\n",
      "10 x 10 = 100\n"
     ]
    }
   ],
   "source": [
    "for i in range(1, 13):\n",
    "    for j in range(1, 13):\n",
    "        print(f\"{i} x {j} = {i*j}\")"
   ]
  },
  {
   "cell_type": "markdown",
   "id": "cf2c3aa0",
   "metadata": {},
   "source": [
    "### Looping through Strings"
   ]
  },
  {
   "cell_type": "code",
   "execution_count": 5,
   "id": "3577b8fe",
   "metadata": {},
   "outputs": [
    {
     "name": "stdout",
     "output_type": "stream",
     "text": [
      "This is how to spell hello:\n",
      "h\n",
      "e\n",
      "l\n",
      "l\n",
      "o\n"
     ]
    }
   ],
   "source": [
    "# looping through a string\n",
    "print(\"This is how to spell hello:\")\n",
    "for char in \"hello\":\n",
    "    print(char)"
   ]
  },
  {
   "cell_type": "markdown",
   "id": "72d32281",
   "metadata": {},
   "source": [
    "### Looping through Tuples"
   ]
  },
  {
   "cell_type": "code",
   "execution_count": 6,
   "id": "649d5b3f",
   "metadata": {},
   "outputs": [
    {
     "name": "stdout",
     "output_type": "stream",
     "text": [
      "10\n",
      "20\n",
      "30\n"
     ]
    }
   ],
   "source": [
    "my_tuple = (10, 20, 30)\n",
    "\n",
    "for item in my_tuple:\n",
    "    print(item)\n"
   ]
  },
  {
   "cell_type": "markdown",
   "id": "b8a9dacd",
   "metadata": {},
   "source": [
    "#### Extracting Multiple Values in a Tuple While Looping"
   ]
  },
  {
   "cell_type": "code",
   "execution_count": 7,
   "id": "131d11f4",
   "metadata": {},
   "outputs": [
    {
     "name": "stdout",
     "output_type": "stream",
     "text": [
      "Number: 1, Letter: a\n",
      "Number: 2, Letter: b\n",
      "Number: 3, Letter: c\n"
     ]
    }
   ],
   "source": [
    "list_of_tuples = [(1, 'a'), (2, 'b'), (3, 'c')]\n",
    "for num, letter in list_of_tuples:\n",
    "    print(f\"Number: {num}, Letter: {letter}\")"
   ]
  },
  {
   "cell_type": "markdown",
   "id": "68d57dae",
   "metadata": {},
   "source": [
    "### Using enumerate"
   ]
  },
  {
   "cell_type": "code",
   "execution_count": 8,
   "id": "f0b07018",
   "metadata": {},
   "outputs": [
    {
     "name": "stdout",
     "output_type": "stream",
     "text": [
      "Snack 1: chocolate\n",
      "Snack 2: chips\n",
      "Snack 3: cookies\n"
     ]
    }
   ],
   "source": [
    "snacks = [\"chocolate\", \"chips\", \"cookies\"]\n",
    "for pos, snack in enumerate(snacks):\n",
    "    print(f\"Snack {pos + 1}: {snack}\")"
   ]
  },
  {
   "cell_type": "markdown",
   "id": "147e1c6b",
   "metadata": {},
   "source": [
    "### Looping through Dictionaries"
   ]
  },
  {
   "cell_type": "code",
   "execution_count": null,
   "id": "e9d0e990",
   "metadata": {},
   "outputs": [],
   "source": [
    "# looping through all key-value pairs\n",
    "users = {\"Alice\": 25, \"Bob\": 30, \"Charlie\": 35}\n",
    "for user, age in users.items():\n",
    "    print(f\"User: {user}, Age: {age}\")"
   ]
  },
  {
   "cell_type": "code",
   "execution_count": null,
   "id": "a64d9ebb",
   "metadata": {},
   "outputs": [],
   "source": [
    "# looping through all keys\n",
    "for user in users.keys():\n",
    "    print(f\"User: {user}\")\n"
   ]
  },
  {
   "cell_type": "code",
   "execution_count": null,
   "id": "e7ad5a22",
   "metadata": {},
   "outputs": [],
   "source": [
    "# looping through the keys in a particular order\n",
    "for user in sorted(users.keys()):\n",
    "    print(f\"User: {user}\")\n"
   ]
  },
  {
   "cell_type": "code",
   "execution_count": null,
   "id": "42543008",
   "metadata": {},
   "outputs": [],
   "source": [
    "# looping through all values\n",
    "for age in users.values():\n",
    "    print(f\"Age: {age}\")\n"
   ]
  },
  {
   "cell_type": "code",
   "execution_count": null,
   "id": "b625a3f3",
   "metadata": {},
   "outputs": [],
   "source": [
    "# looping through a list of dictionaries\n",
    "users_list = [\n",
    "    {\"name\": \"Alice\", \"age\": 25},\n",
    "    {\"name\": \"Bob\", \"age\": 30},\n",
    "    {\"name\": \"Charlie\", \"age\": 35}\n",
    "]\n",
    "for user in users_list:\n",
    "    print(f\"User: {user['name']}, Age: {user['age']}\")"
   ]
  },
  {
   "cell_type": "code",
   "execution_count": null,
   "id": "f8887711",
   "metadata": {},
   "outputs": [],
   "source": [
    "# looping through a dictionary containing lists\n",
    "my_dict = {\n",
    "    \"fruits\": [\"apple\", \"banana\", \"mango\"],\n",
    "    \"colors\": [\"red\", \"blue\", \"green\"]\n",
    "}\n",
    "\n",
    "for key in my_dict:\n",
    "    print(key)         # prints the category\n",
    "    for item in my_dict[key]:\n",
    "        print(item)    # prints each value in the list\n",
    "\n",
    "\n",
    "icecream_order = {\n",
    "    'cup_size': 'medium',\n",
    "    'flavors': ['vanilla', 'chocolate', 'strawberry'],\n",
    "    'toppings': ['sprinkles', 'nuts']\n",
    "}\n",
    "\n",
    "print(f\"You ordered a {icecream_order['cup_size']} cup with the following flavors:\")\n",
    "for flavor in icecream_order['flavors']:\n",
    "    print(f\"- {flavor}\")"
   ]
  },
  {
   "cell_type": "markdown",
   "id": "baf15956",
   "metadata": {},
   "source": [
    "### User Inputs\n",
    "\n",
    "The input() function in Python is used to take user input.\n",
    "\n",
    "- It pauses the program and waits for the user to type something.\n",
    "\n",
    "- Whatever the user types is returned as a string."
   ]
  },
  {
   "cell_type": "code",
   "execution_count": null,
   "id": "70ba28f9",
   "metadata": {},
   "outputs": [],
   "source": [
    "user_name = input(\"Enter your name: \")\n",
    "print(f\"Hello, {user_name}!\")"
   ]
  },
  {
   "cell_type": "code",
   "execution_count": 2,
   "id": "5cf5e36b",
   "metadata": {},
   "outputs": [
    {
     "name": "stdout",
     "output_type": "stream",
     "text": [
      "You are 23 years old.\n"
     ]
    },
    {
     "data": {
      "text/plain": [
       "str"
      ]
     },
     "execution_count": 2,
     "metadata": {},
     "output_type": "execute_result"
    }
   ],
   "source": [
    "userAge = input(\"Enter your age: \")\n",
    "print(f\"You are {userAge} years old.\")\n",
    "type(userAge)"
   ]
  },
  {
   "cell_type": "code",
   "execution_count": null,
   "id": "930d412b",
   "metadata": {},
   "outputs": [],
   "source": [
    "# changing the value of an input function to an integer\n",
    "user_age = int(input(\"Enter your age: \"))\n",
    "print(f\"You are {user_age} years old.\")"
   ]
  },
  {
   "cell_type": "markdown",
   "id": "ef8f747a",
   "metadata": {},
   "source": [
    "### Eval()\n",
    "\n",
    "The eval() function in Python takes a string and runs it as Python code."
   ]
  },
  {
   "cell_type": "code",
   "execution_count": null,
   "id": "a8e66501",
   "metadata": {},
   "outputs": [],
   "source": [
    "x = 5\n",
    "result = eval(\"x + 10\")\n",
    "print(result)"
   ]
  },
  {
   "cell_type": "code",
   "execution_count": 3,
   "id": "bd827d21",
   "metadata": {},
   "outputs": [
    {
     "name": "stdout",
     "output_type": "stream",
     "text": [
      "You are 23 years old.\n"
     ]
    },
    {
     "data": {
      "text/plain": [
       "int"
      ]
     },
     "execution_count": 3,
     "metadata": {},
     "output_type": "execute_result"
    }
   ],
   "source": [
    "userAge = eval(input(\"Enter your age: \"))\n",
    "print(f\"You are {userAge} years old.\")  \n",
    "type(userAge)"
   ]
  },
  {
   "cell_type": "markdown",
   "id": "f1bf9938",
   "metadata": {},
   "source": [
    "eval() can run any code, which makes it unsafe if the input comes from users (it can execute harmful commands).\n",
    "\n",
    "✅ Use it only when:\n",
    "\n",
    "You fully control the input string.\n",
    "\n",
    "You need to quickly evaluate math expressions or Python expressions.\n",
    "\n",
    "❌ Avoid it for user inputs or sensitive code."
   ]
  },
  {
   "cell_type": "markdown",
   "id": "f2b88041",
   "metadata": {},
   "source": [
    "### **While Loops**"
   ]
  },
  {
   "cell_type": "markdown",
   "id": "6e7e3521",
   "metadata": {},
   "source": [
    "This keeps running as long as a condition is True."
   ]
  },
  {
   "cell_type": "markdown",
   "id": "7b99c5f1",
   "metadata": {},
   "source": [
    "*initiator*   \n",
    "\n",
    "while *condition*:  \n",
    "&nbsp;&nbsp;&nbsp;&nbsp;    *loop body*  \n",
    "&nbsp;&nbsp;&nbsp;&nbsp;    *code to loop*  \n",
    "&nbsp;&nbsp;&nbsp;&nbsp;    *update statement*  "
   ]
  },
  {
   "cell_type": "markdown",
   "id": "00dacc28",
   "metadata": {},
   "source": [
    "### For Loops VS While Loops\n",
    "\n",
    "For Loops are primarily used when the number of iterations is known or when iterating over a sequence (like a list, string, or range). Whereas While Loops are used when the number of iterations is unknown and the loop continues as long as a specific condition remains true."
   ]
  },
  {
   "cell_type": "code",
   "execution_count": 2,
   "id": "8c012907",
   "metadata": {},
   "outputs": [
    {
     "name": "stdout",
     "output_type": "stream",
     "text": [
      "Count is: 0\n",
      "Count is: 1\n",
      "Count is: 2\n",
      "Count is: 3\n",
      "Count is: 4\n",
      "Count is: 5\n",
      "Loop has ended\n"
     ]
    }
   ],
   "source": [
    "count = 0  # Initialize\n",
    "\n",
    "while count <= 5:  # Condition\n",
    "    print(f\"Count is: {count}\")  # Loop body\n",
    "    count += 1  # Update (prevents infinite loop)\n",
    "\n",
    "print(\"Loop has ended\")"
   ]
  },
  {
   "cell_type": "markdown",
   "id": "65d7dfa2",
   "metadata": {},
   "source": [
    "#### Key Components:\n",
    "\n",
    "Initiator: The variable you set before the loop starts, so the loop has something to check against.  \n",
    "\n",
    "Condition: A boolean expression that determines if the loop continues.  \n",
    "\n",
    "Loop Body: The code that executes repeatedly.  \n",
    "\n",
    "Update Statement: Code that eventually changes the condition (to avoid infinite loops)"
   ]
  },
  {
   "cell_type": "code",
   "execution_count": 1,
   "id": "bae4ba88",
   "metadata": {},
   "outputs": [
    {
     "name": "stdout",
     "output_type": "stream",
     "text": [
      "You have selected vanilla ice cream.\n",
      "You have selected chocolate ice cream.\n",
      "You have selected strawberry ice cream.\n"
     ]
    }
   ],
   "source": [
    "icecream = input(\"What icecream flavours do you want?: \")\n",
    "while icecream.lower() != \"quit\":\n",
    "    print(f\"You have selected {icecream} ice cream.\")\n",
    "    icecream = input(\"What icecream flavours do you want?: \")"
   ]
  },
  {
   "cell_type": "code",
   "execution_count": null,
   "id": "a8c6ca4a",
   "metadata": {},
   "outputs": [],
   "source": [
    "prompt = \"\\nWhat will you like to do today?\"\n",
    "prompt += \"\\nEnter 'quit' to end the program. \"\n",
    "\n",
    "activities = \"\"\n",
    "while activities.lower() != \"quit\":\n",
    "    activities = input(prompt)\n",
    "    print(f\"We're going to {activities}.\")"
   ]
  },
  {
   "cell_type": "code",
   "execution_count": null,
   "id": "1ce4855a",
   "metadata": {},
   "outputs": [],
   "source": [
    "# Age-based ticket pricing\n",
    "\n",
    "age = \"\"\n",
    "\n",
    "while age != \"quit\":\n",
    "    age = input(\"Enter your age (or 'quit' to stop): \")\n",
    "\n",
    "    if age == \"quit\":\n",
    "        break\n",
    "\n",
    "    age = int(age)\n",
    "\n",
    "    if age < 3:\n",
    "        print(\"Your ticket is free.\")\n",
    "    elif age <= 12:\n",
    "        print(\"Your ticket is $10.\")\n",
    "    else:\n",
    "        print(\"Your ticket is $15.\")"
   ]
  },
  {
   "cell_type": "markdown",
   "id": "50e4cdc1",
   "metadata": {},
   "source": [
    "#### Using Flags\n",
    "\n",
    "A flag is a variable that signals whether a program should keep running."
   ]
  },
  {
   "cell_type": "code",
   "execution_count": null,
   "id": "099ae5bb",
   "metadata": {},
   "outputs": [],
   "source": [
    "# creating the age-based ticket pricing using a flag\n",
    "\n",
    "active = True   # this is the flag\n",
    "\n",
    "while active:\n",
    "    age = input(\"Enter your age (or 'quit' to stop): \")\n",
    "\n",
    "    if age == \"quit\":\n",
    "        active = False   # turn the flag off, loop stops\n",
    "    else:\n",
    "        age = int(age)\n",
    "        if age < 3:\n",
    "            print(\"Your ticket is free.\")\n",
    "        elif age <= 12:\n",
    "            print(\"Your ticket is $10.\")\n",
    "        else:\n",
    "            print(\"Your ticket is $15.\")\n"
   ]
  },
  {
   "cell_type": "markdown",
   "id": "ae6100eb",
   "metadata": {},
   "source": [
    "active = True → loop keeps running.\n",
    "\n",
    "active = False → loop ends.\n",
    "\n",
    "So, while True: is like a permanent “on” flag, and you break it manually. Using a named flag (active) just makes it clearer what controls the loop."
   ]
  },
  {
   "cell_type": "markdown",
   "id": "ffaa14d4",
   "metadata": {},
   "source": [
    "### Looping through Lists"
   ]
  },
  {
   "cell_type": "code",
   "execution_count": null,
   "id": "72264269",
   "metadata": {},
   "outputs": [],
   "source": [
    "food_list = [\"rice\", \"beans\", \"chicken\", \"rice\", \"pasta\", \"noodles\", \"eggs\",\"rice\"]\n",
    "\n",
    "while \"rice\" in food_list:\n",
    "    food_list.remove(\"rice\")\n",
    "\n",
    "print(food_list)"
   ]
  },
  {
   "cell_type": "code",
   "execution_count": null,
   "id": "43631e3b",
   "metadata": {},
   "outputs": [],
   "source": [
    "invited_guests = [\"Sarah\", \"Anne\", \"Michael\"]\n",
    "confirmed_guests = []\n",
    "\n",
    "while invited_guests:\n",
    "    current_guest = invited_guests.pop()\n",
    "    print(\"Inviting \" + current_guest + \"...\")\n",
    "    confirmed_guests.append(current_guest)\n",
    "\n",
    "print(\"The following guests have been invited:\")\n",
    "for guest in confirmed_guests:\n",
    "    print(guest)"
   ]
  },
  {
   "cell_type": "markdown",
   "id": "1e91bf84",
   "metadata": {},
   "source": [
    "### Looping through Dictionaries"
   ]
  },
  {
   "cell_type": "code",
   "execution_count": null,
   "id": "5cef62b2",
   "metadata": {},
   "outputs": [],
   "source": [
    "replies = {}\n",
    "active = True\n",
    "\n",
    "while active:\n",
    "    name = input(\"\\nWhat is your name? \")\n",
    "    reply = input(\"What's your favourite snack?: \")\n",
    "\n",
    "    replies[name] = reply\n",
    "\n",
    "    repeat = input(\"Would you like to let someone else respond? (yes/no) \")\n",
    "    if repeat.lower() == \"no\":\n",
    "        active = False\n",
    "\n",
    "print(\"\\nPoll Results\")\n",
    "for name, reply in replies.items():\n",
    "    print(f\"{name} would like to eat {reply}\")"
   ]
  },
  {
   "cell_type": "markdown",
   "id": "925f47b2",
   "metadata": {},
   "source": [
    "### **Comprehensions**\n",
    "\n",
    "Comprehensions are a short and clean way to create new sequences like lists, sets, or dictionaries from existing ones. They let you write loops and conditions in a single line, making the code easier to read."
   ]
  },
  {
   "cell_type": "code",
   "execution_count": null,
   "id": "052e318f",
   "metadata": {},
   "outputs": [],
   "source": [
    "# list comprehension\n",
    "\n",
    "numbers = [1, 2, 3, 4, 5]\n",
    "squares = [n**2 for n in numbers]\n",
    "print(squares)"
   ]
  },
  {
   "cell_type": "code",
   "execution_count": null,
   "id": "c67966a3",
   "metadata": {},
   "outputs": [],
   "source": [
    "# set comprehension\n",
    "\n",
    "unique_squares = {n**2 for n in numbers}\n",
    "print(unique_squares)"
   ]
  },
  {
   "cell_type": "code",
   "execution_count": null,
   "id": "1468b7e6",
   "metadata": {},
   "outputs": [],
   "source": [
    "# dictionary comprehension\n",
    "\n",
    "name_lengths = {name: len(name) for name in [\"Alice\", \"Bob\", \"Charlie\"]}\n",
    "print(name_lengths)"
   ]
  },
  {
   "cell_type": "markdown",
   "id": "a3ec2503",
   "metadata": {},
   "source": [
    "#### Break\n",
    "\n",
    "This stops a loop completely. It can be used to exit a loop early. Especially when there's a chance of it going on infinitely"
   ]
  },
  {
   "cell_type": "code",
   "execution_count": null,
   "id": "c9bddaad",
   "metadata": {},
   "outputs": [],
   "source": [
    "for num in range(1, 10):\n",
    "    if num == 5:\n",
    "        break\n",
    "    print(num)  \n",
    "# Prints 1 to 4, then stops\n"
   ]
  },
  {
   "cell_type": "code",
   "execution_count": null,
   "id": "f904d6ac",
   "metadata": {},
   "outputs": [],
   "source": [
    "names = [\"John\", \"Mary\", \"Amanda\", \"Paul\"]\n",
    "\n",
    "search = \"Amanda\"\n",
    "\n",
    "for name in names:\n",
    "    if name == search:\n",
    "        print(\"Found:\", name)\n",
    "        break\n",
    "\n",
    "# This way, the loop stops as soon as the item is found,\n",
    "# instead of checking the rest of the list unnecessarily."
   ]
  },
  {
   "cell_type": "code",
   "execution_count": null,
   "id": "439cf4e3",
   "metadata": {},
   "outputs": [],
   "source": [
    "while True:  # infinite loop\n",
    "    password = input(\"Enter password: \")\n",
    "    if password == \"secret123\":\n",
    "        print(\"Access granted\")\n",
    "        break   # exit loop when correct password is entered\n",
    "    else:\n",
    "        print(\"Wrong password, try again\")"
   ]
  },
  {
   "cell_type": "markdown",
   "id": "4e4fd2d2",
   "metadata": {},
   "source": [
    "#### Continue\n",
    "\n",
    "This skips the current loop step and moves to the next.\n",
    "\n",
    "Can be used when you want to ignore certain cases but still keep looping"
   ]
  },
  {
   "cell_type": "code",
   "execution_count": null,
   "id": "674958cf",
   "metadata": {},
   "outputs": [],
   "source": [
    "for num in range(1, 6):\n",
    "    if num == 3:\n",
    "        continue\n",
    "    print(num)  \n",
    "# Prints 1, 2, 4, 5 (skips 3)\n"
   ]
  },
  {
   "cell_type": "code",
   "execution_count": null,
   "id": "e39bb5a5",
   "metadata": {},
   "outputs": [],
   "source": [
    "num = 0\n",
    "\n",
    "while num < 10:\n",
    "    num += 1\n",
    "    if num % 2 == 0:\n",
    "        continue   # skip even numbers\n",
    "    print(num)\n"
   ]
  },
  {
   "cell_type": "markdown",
   "id": "d60231c4",
   "metadata": {},
   "source": [
    "#### Loops and the else statement"
   ]
  }
 ],
 "metadata": {
  "kernelspec": {
   "display_name": "base",
   "language": "python",
   "name": "python3"
  },
  "language_info": {
   "codemirror_mode": {
    "name": "ipython",
    "version": 3
   },
   "file_extension": ".py",
   "mimetype": "text/x-python",
   "name": "python",
   "nbconvert_exporter": "python",
   "pygments_lexer": "ipython3",
   "version": "3.13.5"
  }
 },
 "nbformat": 4,
 "nbformat_minor": 5
}
