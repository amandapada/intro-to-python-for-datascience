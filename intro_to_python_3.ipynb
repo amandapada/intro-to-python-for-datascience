{
 "cells": [
  {
   "cell_type": "markdown",
   "id": "635cc530",
   "metadata": {},
   "source": [
    "## **Loops**"
   ]
  },
  {
   "cell_type": "markdown",
   "id": "14aea3a6",
   "metadata": {},
   "source": [
    "Loops in Python let you repeat an action or set of actions automatically instead of writing it many times.\n",
    "\n",
    "There are two types of loops in python:  \n",
    "- For Loops\n",
    "- While Loops"
   ]
  },
  {
   "cell_type": "markdown",
   "id": "90c8d4ba",
   "metadata": {},
   "source": [
    "### **For Loops**"
   ]
  },
  {
   "cell_type": "markdown",
   "id": "3d07ae67",
   "metadata": {},
   "source": [
    "This goes through items in a sequence (like a list, string, or range).\n",
    "\n",
    "For loops are designed to work with iterables.\n",
    "\n",
    "An iterable is an object capable of returning its members one at a time. A for loop goes through each item in a sequence one by one until it reaches the end.\n",
    "\n",
    "Examples of common iterables include:  \n",
    "*Sequences*: Lists, tuples, strings, which are ordered collections of elements.  \n",
    "*Collections*: Dictionaries (iterating over keys, values, or items), sets.  \n",
    "*Generators and Iterators*: Objects that give values one at a time, saving memory and able to handle endless sequences.  "
   ]
  },
  {
   "cell_type": "markdown",
   "id": "dd61d281",
   "metadata": {},
   "source": [
    "for *x* in *iterable*:  \n",
    "&nbsp;&nbsp;&nbsp;&nbsp;    *do this*"
   ]
  },
  {
   "cell_type": "markdown",
   "id": "e6b26d78",
   "metadata": {},
   "source": [
    "### Looping through Lists"
   ]
  },
  {
   "cell_type": "code",
   "execution_count": 1,
   "id": "0eff83ad",
   "metadata": {},
   "outputs": [
    {
     "name": "stdout",
     "output_type": "stream",
     "text": [
      "Dear Sarah, you are invited to dinner at my place this Saturday!\n",
      "Dear Anne, you are invited to dinner at my place this Saturday!\n",
      "Dear Michael, you are invited to dinner at my place this Saturday!\n"
     ]
    }
   ],
   "source": [
    "guests = [\"Sarah\", \"Anne\", \"Michael\"]\n",
    "\n",
    "for guest in guests:\n",
    "    print(f\"Dear {guest}, you are invited to dinner at my place this Saturday!\")"
   ]
  },
  {
   "cell_type": "code",
   "execution_count": null,
   "id": "68484677",
   "metadata": {},
   "outputs": [
    {
     "name": "stdout",
     "output_type": "stream",
     "text": [
      "i is 0\n",
      "i is 1\n",
      "i is 2\n",
      "i is 3\n",
      "i is 4\n"
     ]
    }
   ],
   "source": [
    "# Using Range\n",
    "# Range is a built-in function that generates a sequence of numbers\n",
    "for i in range(5):\n",
    "    print(\"i is\",i)\n",
    "\n",
    "# Range can also specify a start and end\n",
    "# The syntax is range(start, end)\n",
    "#\n",
    "for j in range(3,8):\n",
    "    print(\"j is\",j) \n",
    "\n",
    "for k in range(2,10,2):\n",
    "    print(\"k is\",k)"
   ]
  },
  {
   "cell_type": "code",
   "execution_count": null,
   "id": "276de74f",
   "metadata": {},
   "outputs": [],
   "source": [
    "# Adding to a list with a for loop\n",
    "dinner_guests = []\n",
    "\n",
    "for guest in guests:\n",
    "    dinner_guests.append(guest)\n",
    "\n",
    "print(dinner_guests)"
   ]
  },
  {
   "cell_type": "code",
   "execution_count": null,
   "id": "392dbce0",
   "metadata": {},
   "outputs": [],
   "source": [
    "# Using if statements in for loops\n",
    "for i in range(1,11):\n",
    "    if i % 2 == 0:\n",
    "        print(f\"{i} is even\")\n",
    "    else:\n",
    "        print(f\"{i} is odd\")"
   ]
  },
  {
   "cell_type": "code",
   "execution_count": null,
   "id": "cb9b3324",
   "metadata": {},
   "outputs": [],
   "source": [
    "# looping through a slice\n",
    "\n",
    "foods = [\"pizza\", \"tacos\", \"sushi\", \"pasta\", \"salad\"]\n",
    "for food in foods[1:4]:\n",
    "    print(\"I like\", food)"
   ]
  },
  {
   "cell_type": "code",
   "execution_count": 3,
   "id": "76eda2cd",
   "metadata": {},
   "outputs": [
    {
     "name": "stdout",
     "output_type": "stream",
     "text": [
      "[1, 8, 27, 64, 125, 216, 343, 512, 729, 1000]\n"
     ]
    }
   ],
   "source": [
    "# putting the cubes of numbers from 1 to 10 in a list\n",
    "cubes = []\n",
    "for i in range(1, 11):\n",
    "    cubes.append(i**3)\n",
    "print(cubes)   "
   ]
  },
  {
   "cell_type": "markdown",
   "id": "da048b39",
   "metadata": {},
   "source": [
    "#### Nesting For Loops"
   ]
  },
  {
   "cell_type": "code",
   "execution_count": null,
   "id": "6af93e52",
   "metadata": {},
   "outputs": [],
   "source": [
    "for i in range(1, 4):  # Outer loop\n",
    "    for j in range(1, 3):  # Inner loop\n",
    "        print(f\"i: {i}, j: {j}\")"
   ]
  },
  {
   "cell_type": "markdown",
   "id": "0c48a2f1",
   "metadata": {},
   "source": [
    "#### Mini Project: Multiplication Table"
   ]
  },
  {
   "cell_type": "code",
   "execution_count": null,
   "id": "79c60f20",
   "metadata": {},
   "outputs": [
    {
     "name": "stdout",
     "output_type": "stream",
     "text": [
      "1 x 1 = 1\n",
      "1 x 2 = 2\n",
      "1 x 3 = 3\n",
      "1 x 4 = 4\n",
      "1 x 5 = 5\n",
      "1 x 6 = 6\n",
      "1 x 7 = 7\n",
      "1 x 8 = 8\n",
      "1 x 9 = 9\n",
      "1 x 10 = 10\n",
      "2 x 1 = 2\n",
      "2 x 2 = 4\n",
      "2 x 3 = 6\n",
      "2 x 4 = 8\n",
      "2 x 5 = 10\n",
      "2 x 6 = 12\n",
      "2 x 7 = 14\n",
      "2 x 8 = 16\n",
      "2 x 9 = 18\n",
      "2 x 10 = 20\n",
      "3 x 1 = 3\n",
      "3 x 2 = 6\n",
      "3 x 3 = 9\n",
      "3 x 4 = 12\n",
      "3 x 5 = 15\n",
      "3 x 6 = 18\n",
      "3 x 7 = 21\n",
      "3 x 8 = 24\n",
      "3 x 9 = 27\n",
      "3 x 10 = 30\n",
      "4 x 1 = 4\n",
      "4 x 2 = 8\n",
      "4 x 3 = 12\n",
      "4 x 4 = 16\n",
      "4 x 5 = 20\n",
      "4 x 6 = 24\n",
      "4 x 7 = 28\n",
      "4 x 8 = 32\n",
      "4 x 9 = 36\n",
      "4 x 10 = 40\n",
      "5 x 1 = 5\n",
      "5 x 2 = 10\n",
      "5 x 3 = 15\n",
      "5 x 4 = 20\n",
      "5 x 5 = 25\n",
      "5 x 6 = 30\n",
      "5 x 7 = 35\n",
      "5 x 8 = 40\n",
      "5 x 9 = 45\n",
      "5 x 10 = 50\n",
      "6 x 1 = 6\n",
      "6 x 2 = 12\n",
      "6 x 3 = 18\n",
      "6 x 4 = 24\n",
      "6 x 5 = 30\n",
      "6 x 6 = 36\n",
      "6 x 7 = 42\n",
      "6 x 8 = 48\n",
      "6 x 9 = 54\n",
      "6 x 10 = 60\n",
      "7 x 1 = 7\n",
      "7 x 2 = 14\n",
      "7 x 3 = 21\n",
      "7 x 4 = 28\n",
      "7 x 5 = 35\n",
      "7 x 6 = 42\n",
      "7 x 7 = 49\n",
      "7 x 8 = 56\n",
      "7 x 9 = 63\n",
      "7 x 10 = 70\n",
      "8 x 1 = 8\n",
      "8 x 2 = 16\n",
      "8 x 3 = 24\n",
      "8 x 4 = 32\n",
      "8 x 5 = 40\n",
      "8 x 6 = 48\n",
      "8 x 7 = 56\n",
      "8 x 8 = 64\n",
      "8 x 9 = 72\n",
      "8 x 10 = 80\n",
      "9 x 1 = 9\n",
      "9 x 2 = 18\n",
      "9 x 3 = 27\n",
      "9 x 4 = 36\n",
      "9 x 5 = 45\n",
      "9 x 6 = 54\n",
      "9 x 7 = 63\n",
      "9 x 8 = 72\n",
      "9 x 9 = 81\n",
      "9 x 10 = 90\n",
      "10 x 1 = 10\n",
      "10 x 2 = 20\n",
      "10 x 3 = 30\n",
      "10 x 4 = 40\n",
      "10 x 5 = 50\n",
      "10 x 6 = 60\n",
      "10 x 7 = 70\n",
      "10 x 8 = 80\n",
      "10 x 9 = 90\n",
      "10 x 10 = 100\n"
     ]
    }
   ],
   "source": [
    "for i in range(1, 13):\n",
    "    for j in range(1, 13):\n",
    "        print(f\"{i} x {j} = {i*j}\")"
   ]
  },
  {
   "cell_type": "markdown",
   "id": "cf2c3aa0",
   "metadata": {},
   "source": [
    "### Looping through Strings"
   ]
  },
  {
   "cell_type": "code",
   "execution_count": 5,
   "id": "3577b8fe",
   "metadata": {},
   "outputs": [
    {
     "name": "stdout",
     "output_type": "stream",
     "text": [
      "This is how to spell hello:\n",
      "h\n",
      "e\n",
      "l\n",
      "l\n",
      "o\n"
     ]
    }
   ],
   "source": [
    "# looping through a string\n",
    "print(\"This is how to spell hello:\")\n",
    "for char in \"hello\":\n",
    "    print(char)"
   ]
  },
  {
   "cell_type": "markdown",
   "id": "72d32281",
   "metadata": {},
   "source": [
    "### Looping through Tuples"
   ]
  },
  {
   "cell_type": "code",
   "execution_count": 6,
   "id": "649d5b3f",
   "metadata": {},
   "outputs": [
    {
     "name": "stdout",
     "output_type": "stream",
     "text": [
      "10\n",
      "20\n",
      "30\n"
     ]
    }
   ],
   "source": [
    "my_tuple = (10, 20, 30)\n",
    "\n",
    "for item in my_tuple:\n",
    "    print(item)\n"
   ]
  },
  {
   "cell_type": "markdown",
   "id": "b8a9dacd",
   "metadata": {},
   "source": [
    "#### Extracting Multiple Values in a Tuple While Looping"
   ]
  },
  {
   "cell_type": "code",
   "execution_count": 7,
   "id": "131d11f4",
   "metadata": {},
   "outputs": [
    {
     "name": "stdout",
     "output_type": "stream",
     "text": [
      "Number: 1, Letter: a\n",
      "Number: 2, Letter: b\n",
      "Number: 3, Letter: c\n"
     ]
    }
   ],
   "source": [
    "list_of_tuples = [(1, 'a'), (2, 'b'), (3, 'c')]\n",
    "for num, letter in list_of_tuples:\n",
    "    print(f\"Number: {num}, Letter: {letter}\")"
   ]
  },
  {
   "cell_type": "markdown",
   "id": "68d57dae",
   "metadata": {},
   "source": [
    "### Using enumerate"
   ]
  },
  {
   "cell_type": "code",
   "execution_count": 8,
   "id": "f0b07018",
   "metadata": {},
   "outputs": [
    {
     "name": "stdout",
     "output_type": "stream",
     "text": [
      "Snack 1: chocolate\n",
      "Snack 2: chips\n",
      "Snack 3: cookies\n"
     ]
    }
   ],
   "source": [
    "snacks = [\"chocolate\", \"chips\", \"cookies\"]\n",
    "for pos, snack in enumerate(snacks):\n",
    "    print(f\"Snack {pos + 1}: {snack}\")"
   ]
  },
  {
   "cell_type": "markdown",
   "id": "147e1c6b",
   "metadata": {},
   "source": [
    "### Looping through Dictionaries"
   ]
  },
  {
   "cell_type": "code",
   "execution_count": null,
   "id": "e9d0e990",
   "metadata": {},
   "outputs": [],
   "source": [
    "# looping through all key-value pairs\n",
    "users = {\"Alice\": 25, \"Bob\": 30, \"Charlie\": 35}\n",
    "for user, age in users.items():\n",
    "    print(f\"User: {user}, Age: {age}\")"
   ]
  },
  {
   "cell_type": "code",
   "execution_count": null,
   "id": "a64d9ebb",
   "metadata": {},
   "outputs": [],
   "source": [
    "# looping through all keys\n",
    "for user in users.keys():\n",
    "    print(f\"User: {user}\")\n"
   ]
  },
  {
   "cell_type": "code",
   "execution_count": null,
   "id": "e7ad5a22",
   "metadata": {},
   "outputs": [],
   "source": [
    "# looping through the keys in a particular order\n",
    "for user in sorted(users.keys()):\n",
    "    print(f\"User: {user}\")\n"
   ]
  },
  {
   "cell_type": "code",
   "execution_count": null,
   "id": "42543008",
   "metadata": {},
   "outputs": [],
   "source": [
    "# looping through all values\n",
    "for age in users.values():\n",
    "    print(f\"Age: {age}\")\n"
   ]
  },
  {
   "cell_type": "code",
   "execution_count": null,
   "id": "b625a3f3",
   "metadata": {},
   "outputs": [],
   "source": [
    "# looping through a list of dictionaries\n",
    "users_list = [\n",
    "    {\"name\": \"Alice\", \"age\": 25},\n",
    "    {\"name\": \"Bob\", \"age\": 30},\n",
    "    {\"name\": \"Charlie\", \"age\": 35}\n",
    "]\n",
    "for user in users_list:\n",
    "    print(f\"User: {user['name']}, Age: {user['age']}\")"
   ]
  },
  {
   "cell_type": "code",
   "execution_count": null,
   "id": "f8887711",
   "metadata": {},
   "outputs": [],
   "source": [
    "# looping through a dictionary containing lists\n",
    "my_dict = {\n",
    "    \"fruits\": [\"apple\", \"banana\", \"mango\"],\n",
    "    \"colors\": [\"red\", \"blue\", \"green\"]\n",
    "}\n",
    "\n",
    "for key in my_dict:\n",
    "    print(key)         # prints the category\n",
    "    for item in my_dict[key]:\n",
    "        print(item)    # prints each value in the list\n",
    "\n",
    "\n",
    "icecream_order = {\n",
    "    'cup_size': 'medium',\n",
    "    'flavors': ['vanilla', 'chocolate', 'strawberry'],\n",
    "    'toppings': ['sprinkles', 'nuts']\n",
    "}\n",
    "\n",
    "print(f\"You ordered a {icecream_order['cup_size']} cup with the following flavors:\")\n",
    "for flavor in icecream_order['flavors']:\n",
    "    print(f\"- {flavor}\")"
   ]
  },
  {
   "cell_type": "markdown",
   "id": "baf15956",
   "metadata": {},
   "source": [
    "### User Inputs"
   ]
  },
  {
   "cell_type": "markdown",
   "id": "f2b88041",
   "metadata": {},
   "source": [
    "### **While Loops**"
   ]
  },
  {
   "cell_type": "markdown",
   "id": "6e7e3521",
   "metadata": {},
   "source": [
    "This keeps running as long as a condition is True."
   ]
  },
  {
   "cell_type": "markdown",
   "id": "b7dd2808",
   "metadata": {},
   "source": [
    "### For Loops VS While Loops\n",
    "\n",
    "For Loops are primarily used when the number of iterations is known or when iterating over a sequence (like a list, string, or range). Whereas While Loops are used when the number of iterations is unknown and the loop continues as long as a specific condition remains true."
   ]
  },
  {
   "cell_type": "markdown",
   "id": "ffaa14d4",
   "metadata": {},
   "source": [
    "### Looping through Lists"
   ]
  },
  {
   "cell_type": "markdown",
   "id": "1e91bf84",
   "metadata": {},
   "source": [
    "### Looping through Dictionaries"
   ]
  },
  {
   "cell_type": "markdown",
   "id": "925f47b2",
   "metadata": {},
   "source": [
    "### **Comprehensions**"
   ]
  },
  {
   "cell_type": "markdown",
   "id": "a3ec2503",
   "metadata": {},
   "source": [
    "Break"
   ]
  },
  {
   "cell_type": "markdown",
   "id": "4e4fd2d2",
   "metadata": {},
   "source": [
    "Continue"
   ]
  },
  {
   "cell_type": "markdown",
   "id": "d60231c4",
   "metadata": {},
   "source": [
    "Loops and the else statement"
   ]
  }
 ],
 "metadata": {
  "kernelspec": {
   "display_name": "base",
   "language": "python",
   "name": "python3"
  },
  "language_info": {
   "codemirror_mode": {
    "name": "ipython",
    "version": 3
   },
   "file_extension": ".py",
   "mimetype": "text/x-python",
   "name": "python",
   "nbconvert_exporter": "python",
   "pygments_lexer": "ipython3",
   "version": "3.13.5"
  }
 },
 "nbformat": 4,
 "nbformat_minor": 5
}
