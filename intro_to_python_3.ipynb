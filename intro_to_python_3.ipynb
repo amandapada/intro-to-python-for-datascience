{
 "cells": [
  {
   "cell_type": "markdown",
   "id": "635cc530",
   "metadata": {},
   "source": [
    "## **Loops**"
   ]
  },
  {
   "cell_type": "markdown",
   "id": "14aea3a6",
   "metadata": {},
   "source": [
    "Loops in Python let you repeat code automatically instead of writing it many times."
   ]
  },
  {
   "cell_type": "markdown",
   "id": "90c8d4ba",
   "metadata": {},
   "source": [
    "### **For Loops**"
   ]
  },
  {
   "cell_type": "markdown",
   "id": "3d07ae67",
   "metadata": {},
   "source": [
    "This goes through items in a sequence (like a list, string, or range)."
   ]
  },
  {
   "cell_type": "markdown",
   "id": "e6b26d78",
   "metadata": {},
   "source": [
    "### Looping through Lists"
   ]
  },
  {
   "cell_type": "markdown",
   "id": "147e1c6b",
   "metadata": {},
   "source": [
    "### Looping through Dictionaries"
   ]
  },
  {
   "cell_type": "markdown",
   "id": "baf15956",
   "metadata": {},
   "source": [
    "### User Inputs"
   ]
  },
  {
   "cell_type": "markdown",
   "id": "f2b88041",
   "metadata": {},
   "source": [
    "### **While Loops**"
   ]
  },
  {
   "cell_type": "markdown",
   "id": "6e7e3521",
   "metadata": {},
   "source": [
    "This keeps running as long as a condition is True."
   ]
  },
  {
   "cell_type": "markdown",
   "id": "ffaa14d4",
   "metadata": {},
   "source": [
    "### Looping through Lists"
   ]
  },
  {
   "cell_type": "markdown",
   "id": "1e91bf84",
   "metadata": {},
   "source": [
    "### Looping through Dictionaries"
   ]
  },
  {
   "cell_type": "markdown",
   "id": "925f47b2",
   "metadata": {},
   "source": [
    "### **Comprehensions**"
   ]
  }
 ],
 "metadata": {
  "language_info": {
   "name": "python"
  }
 },
 "nbformat": 4,
 "nbformat_minor": 5
}
