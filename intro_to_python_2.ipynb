{
 "cells": [
  {
   "cell_type": "markdown",
   "id": "f9b60994",
   "metadata": {},
   "source": [
    "### Condtional Operators"
   ]
  },
  {
   "cell_type": "markdown",
   "id": "547d8e2d",
   "metadata": {},
   "source": [
    "### Logical Operators"
   ]
  },
  {
   "cell_type": "markdown",
   "id": "9e455a45",
   "metadata": {},
   "source": [
    "### Special Operators"
   ]
  },
  {
   "cell_type": "markdown",
   "id": "c20bcf80",
   "metadata": {},
   "source": []
  }
 ],
 "metadata": {
  "language_info": {
   "name": "python"
  }
 },
 "nbformat": 4,
 "nbformat_minor": 5
}
