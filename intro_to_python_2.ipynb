{
 "cells": [
  {
   "cell_type": "markdown",
   "id": "e9001760",
   "metadata": {},
   "source": [
    "## **Conditional Statements**"
   ]
  },
  {
   "cell_type": "markdown",
   "id": "b6ebdf7c",
   "metadata": {},
   "source": [
    "Conditional statements let your program make decisions.\n",
    "They check if something is true or false, then choose what code to run.\n",
    "\n",
    "In Python, the main ones are:\n",
    "```\n",
    "if → runs code if a condition is true\n",
    "\n",
    "elif → checks another condition if the first is false\n",
    "\n",
    "else → runs if none of the above are true\n",
    "```"
   ]
  },
  {
   "cell_type": "markdown",
   "id": "f9b60994",
   "metadata": {},
   "source": [
    "### Condtional Operators"
   ]
  },
  {
   "cell_type": "markdown",
   "id": "51dc76b1",
   "metadata": {},
   "source": [
    "Conditional operators (also called comparison operators) are used in Python to compare values. They return True or False.\n",
    "\n",
    "```\n",
    "==          → equal to\n",
    "\n",
    "!=          → not equal to\n",
    "\n",
    ">           → greater than\n",
    "\n",
    "<           → less than\n",
    "\n",
    ">=          → greater than or equal to\n",
    "\n",
    "<=          → less than or equal to\n",
    "```"
   ]
  },
  {
   "cell_type": "code",
   "execution_count": 4,
   "id": "b95a7eea",
   "metadata": {},
   "outputs": [
    {
     "name": "stdout",
     "output_type": "stream",
     "text": [
      "True\n",
      "False\n",
      "True\n",
      "False\n",
      "True\n",
      "False\n",
      "\n",
      " False\n"
     ]
    }
   ],
   "source": [
    "x = 3\n",
    "y = 5\n",
    "z = 5\n",
    "\n",
    "print(y == z)\n",
    "print(y != z)\n",
    "print(y > x)\n",
    "print(y < x)\n",
    "print(y >= z)\n",
    "print(y <= x)\n",
    "\n",
    "a = '3'\n",
    "print(\"\\n\", a == x)"
   ]
  },
  {
   "cell_type": "markdown",
   "id": "0b438032",
   "metadata": {},
   "source": [
    "#### Note:\n",
    "The '\\\\' (backslash) in Python is called an escape character. It tells Python, “the next character has a special meaning.”\n",
    "\n",
    "'\\n' is the newline character. It moves the cursor to the next line."
   ]
  },
  {
   "cell_type": "markdown",
   "id": "547d8e2d",
   "metadata": {},
   "source": [
    "### Logical Operators"
   ]
  },
  {
   "cell_type": "markdown",
   "id": "31b82dda",
   "metadata": {},
   "source": [
    "Logical operators let you combine or modify conditions in Python. They also return True or False.\n",
    "\n",
    "```\n",
    "\n",
    "and         → True if both conditions are True\n",
    "\n",
    "or          → True if at least one condition is True\n",
    "\n",
    "not         → Flips the result (True becomes False, False becomes True)\n",
    "```"
   ]
  },
  {
   "cell_type": "code",
   "execution_count": null,
   "id": "50a926ad",
   "metadata": {},
   "outputs": [
    {
     "data": {
      "text/plain": [
       "True"
      ]
     },
     "execution_count": 5,
     "metadata": {},
     "output_type": "execute_result"
    }
   ],
   "source": [
    "print((y == z) and (y != x))\n",
    "print((y == z) and (y == x))\n",
    "print((y == z) or (y != x))\n",
    "print((y == z) or (y == x))\n",
    "print(not(y == z))\n",
    "print(not(y != z))"
   ]
  },
  {
   "cell_type": "markdown",
   "id": "9e455a45",
   "metadata": {},
   "source": [
    "### Special Operators"
   ]
  },
  {
   "cell_type": "markdown",
   "id": "62acc5a7",
   "metadata": {},
   "source": [
    "In Python, special operators usually refer to:\n",
    "\n",
    "*Identity operators* → check if two objects are the same object in memory.\n",
    "```\n",
    "is → True if both refer to the same object\n",
    "\n",
    "is not → True if they don’t refer to the same object\n",
    "\n",
    "```\n",
    "*Membership operators* → check if a value exists in a sequence (like list, tuple, string).\n",
    "```\n",
    "in → True if value is found\n",
    "\n",
    "not in → True if value is not found\n",
    "```"
   ]
  },
  {
   "cell_type": "code",
   "execution_count": null,
   "id": "58cbbf5d",
   "metadata": {},
   "outputs": [],
   "source": [
    "print(y is z)\n",
    "print(y is not x)\n",
    "\n",
    "num_list = [1, 2, 3, 4, 5]\n",
    "print(5 in num_list)\n",
    "print(6 in num_list)\n",
    "print(6 not in num_list)"
   ]
  },
  {
   "cell_type": "markdown",
   "id": "c8c67732",
   "metadata": {},
   "source": [
    "### **If Statements**"
   ]
  },
  {
   "cell_type": "markdown",
   "id": "499f8361",
   "metadata": {},
   "source": [
    "if *condition*:  \n",
    "&nbsp;&nbsp;&nbsp;&nbsp;    *do this*\n"
   ]
  },
  {
   "cell_type": "code",
   "execution_count": 6,
   "metadata": {},
   "outputs": [
    {
     "name": "stdout",
     "output_type": "stream",
     "text": [
      "y is equal to z\n"
     ]
    }
   ],
   "source": [
    "if y==z:\n",
    "    print(\"y is equal to z\")"
   ]
  },
  {
   "cell_type": "markdown",
   "id": "60ac8f6a",
   "metadata": {},
   "source": [
    "if *condition*:  \n",
    "&nbsp;&nbsp;&nbsp;&nbsp;    *do this*  \n",
    "else:  \n",
    "&nbsp;&nbsp;&nbsp;&nbsp;    *do that*  \n"
   ]
  },
  {
   "cell_type": "code",
   "execution_count": 7,
   "id": "a329da9e",
   "metadata": {},
   "outputs": [
    {
     "name": "stdout",
     "output_type": "stream",
     "text": [
      "y is not equal to x\n"
     ]
    }
   ],
   "source": [
    "if y==x:\n",
    "    print(\"y is equal to x\")\n",
    "else:\n",
    "    print(\"y is not equal to x\")"
   ]
  },
  {
   "cell_type": "markdown",
   "id": "c345d2c8",
   "metadata": {},
   "source": [
    "if *condition*:  \n",
    "&nbsp;&nbsp;&nbsp;&nbsp;    *do this*  \n",
    "elif *condition*:  \n",
    "&nbsp;&nbsp;&nbsp;&nbsp;    *do this instead*  \n",
    "else:  \n",
    "&nbsp;&nbsp;&nbsp;&nbsp;    *do that*  "
   ]
  },
  {
   "cell_type": "code",
   "execution_count": 8,
   "id": "dc3fc717",
   "metadata": {},
   "outputs": [
    {
     "name": "stdout",
     "output_type": "stream",
     "text": [
      "y is greater than x\n"
     ]
    }
   ],
   "source": [
    "if y==x:\n",
    "    print(\"y is equal to x\")\n",
    "elif y<x:\n",
    "    print(\"y is less than x\")\n",
    "else:\n",
    "    print(\"y is greater than x\")"
   ]
  },
  {
   "cell_type": "markdown",
   "id": "f2a06ba7",
   "metadata": {},
   "source": [
    "## **Indetation is Important in Python**\n",
    "\n",
    "In Python, indentation refers to the spaces or tabs placed at the beginning of a line of code. Unlike many other programming languages that use curly braces or keywords to define code blocks, Python uses indentation as a fundamental part of its syntax to indicate the structure and scope of code blocks.\n",
    "\n",
    "Indentation is used to group related statements together, forming code blocks within constructs like if statements, for loops, while loops, function definitions, and class definitions.\n",
    "\n",
    "Proper indentation is not merely a style preference in Python; it is a strict syntax requirement. Incorrect or inconsistent indentation will lead to *IndentationError* or *TabError*.\n",
    "\n",
    "All lines within a single code block must be indented by the **same amount of whitespace**. If a block needs to be nested further, it is simply indented by an additional level.\n",
    "\n",
    "While the specific number of spaces per indentation level is not strictly enforced by the language, the widely accepted convention is to use four spaces for each level of indentation. Mixing tabs and spaces within the same file is generally discouraged and can lead to issues."
   ]
  },
  {
   "cell_type": "markdown",
   "id": "e15974a2",
   "metadata": {},
   "source": [
    "#### Mini Projects\n",
    "\n",
    "1. We'll be creating a conditional statement that can print a message for somenone in a paticular stage of life"
   ]
  },
  {
   "cell_type": "code",
   "execution_count": null,
   "id": "7c62a586",
   "metadata": {},
   "outputs": [
    {
     "name": "stdout",
     "output_type": "stream",
     "text": [
      "You are an elder\n"
     ]
    }
   ],
   "source": [
    "age = 12\n",
    "\n",
    "if age >= 2 and age < 4:\n",
    "    print(\"You are a baby\")\n",
    "elif age >= 4 and age < 13:\n",
    "    print(\"You are a child\")\n",
    "elif age >= 13 and age < 20: \n",
    "    print(\"You are a teenager\")\n",
    "elif age >= 20 and age < 65:\n",
    "    print(\"You are an adult\")\n",
    "else:\n",
    "    print(\"You are an elder\")"
   ]
  },
  {
   "cell_type": "markdown",
   "id": "19369da2",
   "metadata": {},
   "source": [
    "2. Next, we'll create a system that checks whether a person is eligible to vote or not, based on their age, and print out a message for them"
   ]
  },
  {
   "cell_type": "code",
   "execution_count": 4,
   "id": "16e5d54e",
   "metadata": {},
   "outputs": [
    {
     "name": "stdout",
     "output_type": "stream",
     "text": [
      "You are not eligible to vote\n"
     ]
    }
   ],
   "source": [
    "age = 10\n",
    "\n",
    "if age < 18:\n",
    "    print(\"You are not eligible to vote\")\n",
    "else: \n",
    "    print(\"You are eligible to vote\")"
   ]
  },
  {
   "cell_type": "markdown",
   "id": "e7fef4c8",
   "metadata": {},
   "source": [
    "### Nested Conditionals\n",
    "\n",
    "This is when you use an if statement within another if statement."
   ]
  },
  {
   "cell_type": "markdown",
   "id": "6addd0bd",
   "metadata": {},
   "source": [
    "3. We'll be expanding voter checking system by adding another condition for people who are eligible to vote. We'll be checking if they have their voter's card or not and print a message for them based on this information.\n"
   ]
  },
  {
   "cell_type": "code",
   "execution_count": 3,
   "id": "31af141e",
   "metadata": {},
   "outputs": [
    {
     "name": "stdout",
     "output_type": "stream",
     "text": [
      "You need to register to vote\n"
     ]
    }
   ],
   "source": [
    "age = 20\n",
    "voter_card = False\n",
    "if age < 18:\n",
    "    print(\"You are not eligible to vote\")\n",
    "else: \n",
    "    if voter_card:\n",
    "        print(\"You are eligible to vote\")\n",
    "    else:\n",
    "        print(\"You need to register to vote\")"
   ]
  },
  {
   "cell_type": "markdown",
   "id": "6a8a84ea",
   "metadata": {},
   "source": [
    "### Using If Statements on a List\n",
    "\n",
    "4. We're going to check if a movie is in a list of movies or not and print a message depending on the availability"
   ]
  },
  {
   "cell_type": "code",
   "execution_count": 5,
   "id": "fbe45c9d",
   "metadata": {},
   "outputs": [
    {
     "name": "stdout",
     "output_type": "stream",
     "text": [
      "Sonic 3 is available for streaming.\n",
      "Avatar 2 is not available for streaming.\n",
      "Jujutsu Kaisen 0 is available for streaming.\n"
     ]
    }
   ],
   "source": [
    "available_movies = [\"Sonic 3\", \"Jujutsu Kaisen 0\", \"John Wick 4\"]\n",
    "\n",
    "if \"Sonic 3\" in available_movies:\n",
    "    print(\"Sonic 3 is available for streaming.\")\n",
    "else:\n",
    "    print(\"Sonic 3 is not available for streaming.\")\n",
    "\n",
    "if \"Avatar 2\" in available_movies:  \n",
    "    print(\"Avatar 2 is available for streaming.\")   \n",
    "else:\n",
    "    print(\"Avatar 2 is not available for streaming.\")\n",
    "\n",
    "if \"Jujutsu Kaisen 0\" in available_movies:\n",
    "    print(\"Jujutsu Kaisen 0 is available for streaming.\")   \n",
    "else:\n",
    "    print(\"Jujutsu Kaisen 0 is not available for streaming.\")"
   ]
  },
  {
   "cell_type": "code",
   "execution_count": null,
   "id": "74fee06e",
   "metadata": {},
   "outputs": [],
   "source": []
  }
 ],
 "metadata": {
  "kernelspec": {
   "display_name": "base",
   "language": "python",
   "name": "python3"
  },
  "language_info": {
   "codemirror_mode": {
    "name": "ipython",
    "version": 3
   },
   "file_extension": ".py",
   "mimetype": "text/x-python",
   "name": "python",
   "nbconvert_exporter": "python",
   "pygments_lexer": "ipython3",
   "version": "3.13.5"
  }
 },
 "nbformat": 4,
 "nbformat_minor": 5
}
