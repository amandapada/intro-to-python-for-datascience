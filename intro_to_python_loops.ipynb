{
 "cells": [
  {
   "cell_type": "markdown",
   "id": "90c8d4ba",
   "metadata": {},
   "source": [
    "### **For Loops**"
   ]
  },
  {
   "cell_type": "markdown",
   "id": "e6b26d78",
   "metadata": {},
   "source": [
    "### Looping through Lists"
   ]
  },
  {
   "cell_type": "markdown",
   "id": "147e1c6b",
   "metadata": {},
   "source": [
    "### Looping through Dictionaries"
   ]
  },
  {
   "cell_type": "markdown",
   "id": "baf15956",
   "metadata": {},
   "source": [
    "### User Inputs"
   ]
  },
  {
   "cell_type": "markdown",
   "id": "f2b88041",
   "metadata": {},
   "source": [
    "### **While Loops**"
   ]
  },
  {
   "cell_type": "markdown",
   "id": "ffaa14d4",
   "metadata": {},
   "source": [
    "### Looping through Lists"
   ]
  },
  {
   "cell_type": "markdown",
   "id": "1e91bf84",
   "metadata": {},
   "source": [
    "### Looping through Dictionaries"
   ]
  },
  {
   "cell_type": "markdown",
   "id": "925f47b2",
   "metadata": {},
   "source": [
    "### **Comprehensions**"
   ]
  },
  {
   "cell_type": "markdown",
   "id": "c7019de9",
   "metadata": {},
   "source": []
  }
 ],
 "metadata": {
  "language_info": {
   "name": "python"
  }
 },
 "nbformat": 4,
 "nbformat_minor": 5
}
