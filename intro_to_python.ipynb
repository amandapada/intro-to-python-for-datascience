{
 "cells": [
  {
   "cell_type": "markdown",
   "id": "9274e838",
   "metadata": {},
   "source": [
    "## **Basics**"
   ]
  },
  {
   "cell_type": "markdown",
   "id": "7f86aaa4",
   "metadata": {},
   "source": [
    "### What is Python?"
   ]
  },
  {
   "cell_type": "markdown",
   "id": "62a03c3a",
   "metadata": {},
   "source": [
    "- Python is a widely used programming language.\n",
    "\n",
    "- In data science, Python is popular because:\n",
    "\n",
    "    - It has powerful libraries (NumPy, Pandas, Matplotlib, Scikit-learn).\n",
    "\n",
    "    - It’s good for both small scripts and big projects.\n",
    "\n",
    "    - It works well with data analysis, machine learning, and AI."
   ]
  },
  {
   "cell_type": "markdown",
   "id": "c5197036",
   "metadata": {},
   "source": [
    "### Installing and Using Jupyter Notebook"
   ]
  },
  {
   "cell_type": "markdown",
   "id": "d77fe33a",
   "metadata": {},
   "source": [
    "#### What is Jupyter Notebook?"
   ]
  },
  {
   "cell_type": "markdown",
   "id": "7bf8a1f7",
   "metadata": {},
   "source": [
    "- An interactive environment where you can write and run Python code in cells.\n",
    "\n",
    "- You can mix code, text (Markdown), and visuals.\n",
    "\n",
    "- It’s widely used for teaching, experimenting, and data analysis."
   ]
  },
  {
   "cell_type": "markdown",
   "id": "90bb2ae3",
   "metadata": {},
   "source": [
    "#### How to install:\n",
    "1. Install Anaconda (easiest way) from https://www.anaconda.com/download\n",
    "\n",
    "Anaconda comes with Python, Jupyter Notebook, and useful data science libraries.\n",
    "\n",
    "2. Or, if you already have Python installed, run in terminal:\n",
    "\n",
    "pip install notebook"
   ]
  },
  {
   "cell_type": "markdown",
   "id": "d3cbc0b7",
   "metadata": {},
   "source": [
    "### Starting a New Project"
   ]
  },
  {
   "cell_type": "markdown",
   "id": "22676fc2",
   "metadata": {},
   "source": [
    "- If you installed with Anaconda → Open Anaconda Navigator → Launch Jupyter Notebook.\n",
    "\n",
    "- Or run in terminal/cmd:\n",
    "\n",
    "jupyter notebook\n",
    "\n",
    "\n",
    "- It will open in your browser.\n",
    "\n",
    "- Create a new notebook → Choose Python 3.\n"
   ]
  },
  {
   "cell_type": "markdown",
   "id": "35c8b188",
   "metadata": {},
   "source": [
    "## **Syntax and Fundamentals**"
   ]
  },
  {
   "cell_type": "markdown",
   "id": "944d6b6e",
   "metadata": {},
   "source": [
    "### Variables"
   ]
  },
  {
   "cell_type": "markdown",
   "id": "75a89fc7",
   "metadata": {},
   "source": [
    "- These are containers\n",
    "- They hold data"
   ]
  },
  {
   "cell_type": "code",
   "execution_count": null,
   "id": "853581d4",
   "metadata": {},
   "outputs": [],
   "source": [
    "name = \"Amanda\" # variable containing 'Amanda'\n",
    "age = 30 # variable containing age\n",
    "employed = True # variable indicating employment status\n",
    "\n",
    "x, y, z = 1, 2, 3  # multiple assignment\n",
    "print(y)  # prints 2"
   ]
  },
  {
   "cell_type": "markdown",
   "id": "e989b04c",
   "metadata": {},
   "source": [
    "Anything that starts with '#' is a comment. \n",
    "\n",
    "Comments are notes to add to your code to explain what it does. They're for humans, so the computer ignores them."
   ]
  },
  {
   "cell_type": "markdown",
   "id": "6bc88e6c",
   "metadata": {},
   "source": [
    "#### Rules and guidelines for using and naming variables\n",
    "\n",
    "- Variables can contain only letters, numbers, and underscores. \n",
    "- You can't start a variable with a number\n",
    "- Variables cannot have spaces\n",
    "- You can use snake case (using underscores: snake_case), or camel case (using capitalisation: camelCase) for readability\n",
    "- Avoid using Python keywords and function names as\n",
    "variable names. Check here for a list of keywords: https://www.w3schools.com/python/python_ref_keywords.asp\n",
    "-  Variable names should be short but descriptive"
   ]
  },
  {
   "cell_type": "code",
   "execution_count": null,
   "id": "cffbfaaf",
   "metadata": {},
   "outputs": [],
   "source": [
    "1stperson = \"Amanda\" # Bad variable name starts with a number\n",
    "first-name = \"Amanda\" # Bad variable name contains a hyphen\n",
    "first name = \"Amanda\" # Bad variable name contains a space\n",
    "\n",
    "# Good variable names\n",
    "firstName = \"Amanda\"\n",
    "first_name = \"Amanda\"\n",
    "FirstName = \"Amanda\"\n"
   ]
  },
  {
   "cell_type": "markdown",
   "id": "91ea5bf5",
   "metadata": {},
   "source": [
    "#### Constants\n",
    "A constant is a variable whose value should not change during the program. Python doesn’t have true constants (like some other languages), but by convention we write them in ALL CAPS to show they shouldn’t be changed.\n"
   ]
  },
  {
   "cell_type": "code",
   "execution_count": null,
   "id": "a6cc17e4",
   "metadata": {},
   "outputs": [],
   "source": [
    "MAX_COUNT = 100\n",
    "PI = 3.14159"
   ]
  },
  {
   "cell_type": "markdown",
   "id": "a89b011b",
   "metadata": {},
   "source": [
    "### **Data Types**"
   ]
  },
  {
   "cell_type": "markdown",
   "id": "c40c77ef",
   "metadata": {},
   "source": [
    "A data type is the classification of a value in Python that tells the computer what kind of data it is and what operations can be done with it.\n",
    "\n",
    "The basic data types are:\n",
    "- Strings\n",
    "- Integers\n",
    "- Floats\n",
    "- Boolean"
   ]
  },
  {
   "cell_type": "markdown",
   "id": "101c556b",
   "metadata": {},
   "source": [
    "### **Strings**\n",
    "\n",
    "A string is a type of data that consists of letters, characters, and even numbers wrapped in quotes."
   ]
  },
  {
   "cell_type": "code",
   "execution_count": null,
   "id": "5f9be79a",
   "metadata": {},
   "outputs": [],
   "source": [
    "# Creating strings\n",
    "\n",
    "name = \"Amanda\"\n",
    "# name = 'Amanda'\n",
    "# name = \"\"\"Amanda\"\"\"\n",
    "# name = '''Amanda'''\n"
   ]
  },
  {
   "cell_type": "markdown",
   "id": "7207f911",
   "metadata": {},
   "source": [
    "You can use either double or single quotes to create strings but you have to be consistent. You cannot start a string with a single quote and end with a double quote and vice versa. But you can have either of them within the other:"
   ]
  },
  {
   "cell_type": "code",
   "execution_count": null,
   "id": "59c9db6e",
   "metadata": {},
   "outputs": [],
   "source": [
    "# using a string with an apostrophe\n",
    "sentence = \"Amanda's cat is very cute.\"\n",
    "\n",
    "# This wouldn't work\n",
    "bad_sentence = 'Amanda's cat is very cute.'\n",
    "\n",
    "# to make it work with single quotes, we have to use \\\n",
    "sentence = 'Amanda\\'s cat is very cute.'"
   ]
  },
  {
   "cell_type": "markdown",
   "id": "b64a774e",
   "metadata": {},
   "source": [
    "### String Methods:\n",
    "String methods are built-in actions in Python that you can be carried out on strings to change them or get information from them."
   ]
  },
  {
   "cell_type": "code",
   "execution_count": null,
   "id": "8c0ea3fb",
   "metadata": {},
   "outputs": [],
   "source": [
    "# Demonstrating various string methods\n",
    "sample_text = \"  Hello, Python World!  \"\n",
    "\n",
    "print(sample_text.strip())      # Removes leading/trailing whitespace\n",
    "print(sample_text.lower())      # Converts to lowercase\n",
    "print(sample_text.upper())      # Converts to uppercase\n",
    "print(sample_text.replace(\"Python\", \"Jupyter\"))  # Replaces substring\n",
    "print(sample_text.startswith(\"  He\"))  # Checks if string starts with substring\n",
    "print(sample_text.endswith(\"!  \"))     # Checks if string ends with substring\n",
    "print(sample_text.find(\"World\"))       # Finds the index of substring\n",
    "print(sample_text.count(\"o\"))          # Counts occurrences of a character\n",
    "print(sample_text.split(\",\"))          # Splits string into a list\n",
    "print(sample_text.strip().title())     # Title case after stripping whitespace"
   ]
  },
  {
   "cell_type": "code",
   "execution_count": null,
   "id": "9b4bcccb",
   "metadata": {},
   "outputs": [],
   "source": [
    "print(name[1:4])  # Slicing the string\n",
    "print(name[1:])  # Slicing the string from index 1 to the end  \n",
    "print(name[:4])  # Slicing the string from the start to index 4 "
   ]
  },
  {
   "cell_type": "markdown",
   "id": "2ad68f6e",
   "metadata": {},
   "source": [
    "### String Concatenation\n",
    "\n",
    "This means combining strings together using '+'"
   ]
  },
  {
   "cell_type": "code",
   "execution_count": null,
   "id": "b32ce260",
   "metadata": {},
   "outputs": [],
   "source": [
    "greeting = \"Hello, \" + name + \"!\"\n",
    "greeting"
   ]
  },
  {
   "cell_type": "markdown",
   "id": "f69ba1c1",
   "metadata": {},
   "source": [
    "### String Formatting\n",
    "String formatting is a way of inserting values into a string instead of writing everything manually.\n",
    "\n",
    "It makes your text dynamic as the string changes automatically when the variable values change."
   ]
  },
  {
   "cell_type": "markdown",
   "id": "cb1a6598",
   "metadata": {},
   "source": [
    "#### String formatting using the format() Method"
   ]
  },
  {
   "cell_type": "code",
   "execution_count": null,
   "id": "095ae720",
   "metadata": {},
   "outputs": [],
   "source": [
    "greeting = \"Hello, {}!\".format(name)\n",
    "greeting"
   ]
  },
  {
   "cell_type": "markdown",
   "id": "4b6c25fe",
   "metadata": {},
   "source": [
    "#### String formatting using the formatted string (f-string)"
   ]
  },
  {
   "cell_type": "code",
   "execution_count": null,
   "id": "25a7bf43",
   "metadata": {},
   "outputs": [],
   "source": [
    "greeting = f\"Hello, {name}.\"\n",
    "greeting"
   ]
  },
  {
   "cell_type": "markdown",
   "id": "425ae9f9",
   "metadata": {},
   "source": [
    "### **Numbers: *Integers and floats***"
   ]
  },
  {
   "cell_type": "markdown",
   "id": "b72d969f",
   "metadata": {},
   "source": [
    "### **Integers**\n",
    "\n",
    "These are whole numbers"
   ]
  },
  {
   "cell_type": "code",
   "execution_count": null,
   "id": "87096d3a",
   "metadata": {},
   "outputs": [],
   "source": [
    "# Creating integers \n",
    "age = 22        # Assigning an integer value to a variable\n",
    "age = int(\"22\")  # Converting a string to an integer \n",
    "age = int(22.9)  # Converting a float to an integer (truncates decimal part)\n",
    "\n",
    "networth = 14_000_000  # Using underscores for better readability"
   ]
  },
  {
   "cell_type": "markdown",
   "id": "52470e19",
   "metadata": {},
   "source": [
    "### **Floats**\n",
    "\n",
    "These are decimal numbers "
   ]
  },
  {
   "cell_type": "code",
   "execution_count": null,
   "id": "0964d240",
   "metadata": {},
   "outputs": [],
   "source": [
    "# Creating floats\n",
    "\n",
    "temperature = 27.4 # Assigning a float value to a variable\n",
    "temperature = float(27) # Converting an integer to a float"
   ]
  },
  {
   "cell_type": "markdown",
   "id": "b4f9c63b",
   "metadata": {},
   "source": [
    "### Operators\n",
    "\n",
    "```\n",
    " a + b                      The sum of a and b\n",
    " a- b                       The difference of a and b\n",
    " a * b                      The product of a and b\n",
    " a / b                      The quotient of a and b\n",
    " a // b                     The floored quotient of a and b\n",
    " a %b                       The remainder of a / b\n",
    " abs(a)                     The absolute value of a\n",
    " divmod(a, b)               The pair: (a // b, a % b)\n",
    " pow(a, b) or a ** b        a to the power of b\n",
    "```"
   ]
  },
  {
   "cell_type": "code",
   "execution_count": null,
   "id": "2d253209",
   "metadata": {},
   "outputs": [],
   "source": [
    "num_1 = 23\n",
    "num_2 = 3\n",
    "\n",
    "print(num_1//num_2)\n",
    "print(num_1 % num_2)"
   ]
  },
  {
   "cell_type": "markdown",
   "id": "aacd70b4",
   "metadata": {},
   "source": [
    "### Augmented assignment"
   ]
  },
  {
   "cell_type": "code",
   "execution_count": null,
   "id": "4d05964a",
   "metadata": {},
   "outputs": [],
   "source": [
    "num_1 += 5   # this is a short way to write num_1 = num_1 + 5\n",
    "print(num_1)"
   ]
  },
  {
   "cell_type": "markdown",
   "id": "4b789c7f",
   "metadata": {},
   "source": [
    "They’re good for:\n",
    "\n",
    "- Writing cleaner, shorter code → x += 1 instead of x = x + 1.\n",
    "\n",
    "- Updating values in loops → counters, sums, etc.\n",
    "\n",
    "- Improving readability → easier to see the intent (“add to this variable,” “multiply this variable,” etc.).\n",
    "\n",
    "- Working with different operators → +=, -=, *=, /=, //=, %=."
   ]
  },
  {
   "cell_type": "markdown",
   "id": "3df238ea",
   "metadata": {},
   "source": [
    "### **Booleans**"
   ]
  },
  {
   "cell_type": "markdown",
   "id": "51caf60e",
   "metadata": {},
   "source": [
    "A Boolean value is either True or False.\n",
    "\n",
    "They’re often the result of comparisons:\n",
    "\n",
    "```\n",
    "5 > 3   # True\n",
    "2 == 7  # False\n",
    "```\n",
    "\n",
    "In Python, things don’t have to literally be True or False to behave that way.\n",
    "\n",
    "- A value is truthy if Python treats it like True.\n",
    "\n",
    "- A value is falsy if Python treats it like False."
   ]
  },
  {
   "cell_type": "code",
   "execution_count": null,
   "id": "e9ac011d",
   "metadata": {},
   "outputs": [],
   "source": [
    "# This is a boolean\n",
    "\n",
    "working = True"
   ]
  },
  {
   "cell_type": "code",
   "execution_count": null,
   "id": "646ca85c",
   "metadata": {},
   "outputs": [],
   "source": [
    "bool(1)       # True (non-zero numbers are truthy)\n",
    "bool(0)       # False\n",
    "bool(\"hi\")    # True (non-empty strings are truthy)\n",
    "bool(\"\")      # False (empty strings are falsy)\n",
    "bool([])      # False (empty lists are falsy)\n",
    "bool([1, 2])  # True (non-empty lists are truthy)"
   ]
  },
  {
   "cell_type": "markdown",
   "id": "b07c7b98",
   "metadata": {},
   "source": [
    "#### Checking data types"
   ]
  },
  {
   "cell_type": "code",
   "execution_count": null,
   "id": "4d2c5e3a",
   "metadata": {},
   "outputs": [],
   "source": [
    "type(temperature)\n",
    "type(name)\n",
    "type(age)\n",
    "type(working)"
   ]
  },
  {
   "cell_type": "markdown",
   "id": "0e11c0d2",
   "metadata": {},
   "source": [
    "### **Data Structures**"
   ]
  },
  {
   "cell_type": "markdown",
   "id": "b284836c",
   "metadata": {},
   "source": [
    "A data structure is just a way of organizing and storing data so you can use it efficiently. It is a collection or organization of those data types.\n",
    "\n",
    "Some basic data structures in python include:\n",
    "\n",
    "- Lists\n",
    "- Tuples\n",
    "- Dictionaries\n",
    "- Sets"
   ]
  },
  {
   "cell_type": "markdown",
   "id": "abf967ea",
   "metadata": {},
   "source": [
    "### **Lists**\n",
    "\n",
    "These are collections of homogenous items wrapped in square brackets. They are mutable (editable), and ordered. Lists a sequence type of data structure.\n",
    "\n",
    "A sequence type is a kind of data type in Python that stores items in an ordered collection. Each item has a position (index) and you can access items by their index, slice them, and loop through them.\n"
   ]
  },
  {
   "cell_type": "code",
   "execution_count": null,
   "id": "d663724a",
   "metadata": {},
   "outputs": [],
   "source": [
    "names = [\"Amanda\", \"John\", \"Sarah\", \"Mike\"]\n",
    "\n",
    "names[0]"
   ]
  },
  {
   "cell_type": "code",
   "execution_count": null,
   "id": "111fd18b",
   "metadata": {},
   "outputs": [],
   "source": [
    "# Creating lists\n",
    "my_list = [1, 2, 3, 4, 5]   # A list of integers\n",
    "my_other_list = []           # An empty list\n",
    "my_final_list = list(name)   # A list from a string"
   ]
  },
  {
   "cell_type": "markdown",
   "id": "85a4629e",
   "metadata": {},
   "source": [
    "#### List Methods"
   ]
  },
  {
   "cell_type": "code",
   "execution_count": null,
   "id": "bcb3ec1c",
   "metadata": {},
   "outputs": [],
   "source": [
    "# Appending to lists\n",
    "# This adds elements to the end of the list\n",
    "my_other_list.append(1)\n",
    "my_other_list.append(2)\n",
    "print(my_other_list)"
   ]
  },
  {
   "cell_type": "code",
   "execution_count": null,
   "id": "81396379",
   "metadata": {},
   "outputs": [],
   "source": [
    "# Clearing lists\n",
    "my_final_list.clear()\n",
    "my_final_list"
   ]
  },
  {
   "cell_type": "code",
   "execution_count": null,
   "id": "8a3a5a64",
   "metadata": {},
   "outputs": [],
   "source": [
    "# Copying lists\n",
    "new_list = my_list.copy()\n",
    "new_list"
   ]
  },
  {
   "cell_type": "code",
   "execution_count": null,
   "id": "79ada7d5",
   "metadata": {},
   "outputs": [],
   "source": [
    "# Counting how many times an element appears in a list\n",
    "new_list.count(4)"
   ]
  },
  {
   "cell_type": "code",
   "execution_count": null,
   "id": "1ccf6f31",
   "metadata": {},
   "outputs": [],
   "source": [
    "# Finding the index of an element in a list\n",
    "new_list.index(4)"
   ]
  },
  {
   "cell_type": "code",
   "execution_count": null,
   "id": "fca8e60c",
   "metadata": {},
   "outputs": [],
   "source": [
    "# Inserting elements into a list\n",
    "new_list.insert(2, 10)\n",
    "new_list"
   ]
  },
  {
   "cell_type": "code",
   "execution_count": null,
   "id": "60cfb03f",
   "metadata": {},
   "outputs": [],
   "source": [
    "# Removing elements from a list\n",
    "new_list.pop()\n",
    "new_list.pop(2) # Removes the element at index 2"
   ]
  },
  {
   "cell_type": "code",
   "execution_count": null,
   "id": "1b3477bb",
   "metadata": {},
   "outputs": [],
   "source": [
    "new_list.append(6)\n",
    "new_list.append(5)\n",
    "new_list.append(4)\n",
    "\n",
    "# Remove the first occurrence of the element with value 4\n",
    "new_list.remove(4)\n",
    "new_list"
   ]
  },
  {
   "cell_type": "code",
   "execution_count": null,
   "id": "e9323226",
   "metadata": {},
   "outputs": [],
   "source": [
    "# Reversing a list\n",
    "new_list.reverse()\n",
    "new_list"
   ]
  },
  {
   "cell_type": "code",
   "execution_count": null,
   "id": "019a621a",
   "metadata": {},
   "outputs": [],
   "source": [
    "# Sorting a list\n",
    "new_list.sort()\n",
    "new_list"
   ]
  },
  {
   "cell_type": "code",
   "execution_count": null,
   "id": "9a01a157",
   "metadata": {},
   "outputs": [],
   "source": [
    "# Extending a list\n",
    "new_list.extend(my_other_list)\n",
    "new_list"
   ]
  },
  {
   "cell_type": "code",
   "execution_count": null,
   "id": "e6ec3871",
   "metadata": {},
   "outputs": [],
   "source": [
    "# Lists can also be sliced\n",
    "sliced_list = new_list[1:4]  # Get elements from index 1 to 3\n",
    "sliced_list"
   ]
  },
  {
   "cell_type": "markdown",
   "id": "d9b43627",
   "metadata": {},
   "source": [
    "### **Tuples**"
   ]
  },
  {
   "cell_type": "markdown",
   "id": "11e000f4",
   "metadata": {},
   "source": [
    "Tuples are also sequence types. They consist of comma separated values wrapped in parentheses. Unlike lists, they are immutable. They're helpful when you want a sequence that cannot change."
   ]
  },
  {
   "cell_type": "code",
   "execution_count": null,
   "id": "6068914b",
   "metadata": {},
   "outputs": [],
   "source": [
    "# Creating tuples\n",
    "info = (\"Amanda\", 30, True)\n",
    "a_tuple = tuple(my_list)\n",
    "short_tuple = (1,)  # Tuple with a single element requires a comma"
   ]
  },
  {
   "cell_type": "markdown",
   "id": "927b1373",
   "metadata": {},
   "source": [
    "### Tuple Methods\n",
    "\n",
    "Because tuples are immutable, there aren't a lot operations that can be carried out on them."
   ]
  },
  {
   "cell_type": "code",
   "execution_count": null,
   "id": "23403e5b",
   "metadata": {},
   "outputs": [],
   "source": [
    "# Counting how many times a value appears in a tuple\n",
    "count = info.count(\"Amanda\")"
   ]
  },
  {
   "cell_type": "code",
   "execution_count": null,
   "id": "f726908a",
   "metadata": {},
   "outputs": [],
   "source": [
    "# Finding the index of an element in a tuple\n",
    "info.index(30)"
   ]
  },
  {
   "cell_type": "markdown",
   "id": "c91869c8",
   "metadata": {},
   "source": []
  },
  {
   "cell_type": "markdown",
   "id": "cba1a3ff",
   "metadata": {},
   "source": [
    "### **Dictionaries**"
   ]
  },
  {
   "cell_type": "code",
   "execution_count": null,
   "id": "41a03544",
   "metadata": {},
   "outputs": [],
   "source": []
  },
  {
   "cell_type": "markdown",
   "id": "8a1b5915",
   "metadata": {},
   "source": [
    "### **Sets**"
   ]
  },
  {
   "cell_type": "code",
   "execution_count": null,
   "id": "89ed0e7a",
   "metadata": {},
   "outputs": [],
   "source": []
  },
  {
   "cell_type": "markdown",
   "id": "f551e58c",
   "metadata": {},
   "source": [
    "### **None**"
   ]
  },
  {
   "cell_type": "markdown",
   "id": "710d82da",
   "metadata": {},
   "source": []
  }
 ],
 "metadata": {
  "kernelspec": {
   "display_name": "Python 3",
   "language": "python",
   "name": "python3"
  },
  "language_info": {
   "codemirror_mode": {
    "name": "ipython",
    "version": 3
   },
   "file_extension": ".py",
   "mimetype": "text/x-python",
   "name": "python",
   "nbconvert_exporter": "python",
   "pygments_lexer": "ipython3",
   "version": "3.13.3"
  }
 },
 "nbformat": 4,
 "nbformat_minor": 5
}
